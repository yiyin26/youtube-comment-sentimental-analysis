{
 "cells": [
  {
   "cell_type": "code",
   "execution_count": null,
   "id": "3528c8d4",
   "metadata": {},
   "outputs": [],
   "source": [
    "import csv\n",
    "from googleapiclient.discovery import build\n",
    "from collections import Counter\n",
    "import streamlit as st\n",
    "from Senti import extract_video_id\n",
    "from googleapiclient.errors import HttpError"
   ]
  },
  {
   "cell_type": "code",
   "execution_count": null,
   "id": "eb3be7b5",
   "metadata": {},
   "outputs": [],
   "source": [
    "import warnings\n",
    "warnings.filterwarnings('ignore')"
   ]
  },
  {
   "cell_type": "code",
   "execution_count": null,
   "id": "0c05fa88",
   "metadata": {
    "lines_to_next_cell": 1
   },
   "outputs": [],
   "source": [
    "# Replace with your own API key\n",
    "DEVELOPER_KEY = st.secrets[\"API_KEY\"]\n",
    "YOUTUBE_API_SERVICE_NAME = 'youtube'\n",
    "YOUTUBE_API_VERSION = 'v3'\n",
    "# Create a client object to interact with the YouTube API\n",
    "youtube = build(YOUTUBE_API_SERVICE_NAME, YOUTUBE_API_VERSION, developerKey=DEVELOPER_KEY)"
   ]
  },
  {
   "cell_type": "markdown",
   "id": "b03f7fcb",
   "metadata": {},
   "source": [
    "video_id=extract_video_id(youtube_link)"
   ]
  },
  {
   "cell_type": "code",
   "execution_count": null,
   "id": "2e93a33c",
   "metadata": {},
   "outputs": [],
   "source": [
    "def get_channel_id(video_id):\n",
    "    response = youtube.videos().list(part='snippet', id=video_id).execute()\n",
    "    channel_id = response['items'][0]['snippet']['channelId']\n",
    "    return channel_id"
   ]
  },
  {
   "cell_type": "markdown",
   "id": "93c4ee5e",
   "metadata": {
    "lines_to_next_cell": 2
   },
   "source": [
    "channel_id=get_channel_id(video_id)"
   ]
  },
  {
   "cell_type": "code",
   "execution_count": null,
   "id": "a6c51afb",
   "metadata": {
    "lines_to_next_cell": 1
   },
   "outputs": [],
   "source": [
    "def save_video_comments_to_csv(video_id):\n",
    "    # Retrieve comments for the specified video using the comments().list() method\n",
    "    comments = []\n",
    "    results = youtube.commentThreads().list(\n",
    "        part='snippet',\n",
    "        videoId=video_id,\n",
    "        textFormat='plainText'\n",
    "    ).execute()\n",
    "    \n",
    "    # Extract the text content of each comment and add it to the comments list\n",
    "    while results:\n",
    "        for item in results['items']:\n",
    "            comment = item['snippet']['topLevelComment']['snippet']['textDisplay']\n",
    "            username = item['snippet']['topLevelComment']['snippet']['authorDisplayName']\n",
    "            comments.append([username,comment])\n",
    "        if 'nextPageToken' in results:\n",
    "            nextPage = results['nextPageToken']\n",
    "            results = youtube.commentThreads().list(\n",
    "                part='snippet',\n",
    "                videoId=video_id,\n",
    "                textFormat='plainText',\n",
    "                pageToken=nextPage\n",
    "            ).execute()\n",
    "        else:\n",
    "            break\n",
    "    \n",
    "    # Save the comments to a CSV file with the video ID as the filename\n",
    "    filename = video_id + '.csv'\n",
    "    with open(filename, 'w', newline='', encoding='utf-8') as csvfile:\n",
    "        writer = csv.writer(csvfile)\n",
    "        writer.writerow(['Username','Comment'])\n",
    "        for comment in comments:\n",
    "            writer.writerow([comment[0],comment[1]])\n",
    "            \n",
    "    return filename"
   ]
  },
  {
   "cell_type": "code",
   "execution_count": null,
   "id": "3e4aecca",
   "metadata": {},
   "outputs": [],
   "source": [
    "def get_video_stats(video_id):\n",
    "    try:\n",
    "        response = youtube.videos().list(\n",
    "            part='statistics',\n",
    "            id=video_id\n",
    "        ).execute()\n",
    "\n",
    "        return response['items'][0]['statistics']\n",
    "\n",
    "    except HttpError as error:\n",
    "        print(f'An error occurred: {error}')\n",
    "        return None"
   ]
  },
  {
   "cell_type": "code",
   "execution_count": null,
   "id": "837000e6",
   "metadata": {
    "lines_to_next_cell": 2
   },
   "outputs": [],
   "source": [
    "    "
   ]
  },
  {
   "cell_type": "code",
   "execution_count": null,
   "id": "ac070125",
   "metadata": {},
   "outputs": [],
   "source": [
    "def get_channel_info(youtube, channel_id):\n",
    "    try:\n",
    "        response = youtube.channels().list(\n",
    "            part='snippet,statistics,brandingSettings',\n",
    "            id=channel_id\n",
    "        ).execute()\n",
    "\n",
    "        channel_title = response['items'][0]['snippet']['title']\n",
    "        video_count = response['items'][0]['statistics']['videoCount']\n",
    "        channel_logo_url = response['items'][0]['snippet']['thumbnails']['high']['url']\n",
    "        channel_created_date = response['items'][0]['snippet']['publishedAt']\n",
    "        subscriber_count = response['items'][0]['statistics']['subscriberCount']\n",
    "        channel_description = response['items'][0]['snippet']['description']\n",
    "        \n",
    "\n",
    "        channel_info = {\n",
    "            'channel_title': channel_title,\n",
    "            'video_count': video_count,\n",
    "            'channel_logo_url': channel_logo_url,\n",
    "            'channel_created_date': channel_created_date,\n",
    "            'subscriber_count': subscriber_count,\n",
    "            'channel_description': channel_description\n",
    "        }\n",
    "\n",
    "        return channel_info\n",
    "\n",
    "    except HttpError as error:\n",
    "        print(f'An error occurred: {error}')\n",
    "        return None"
   ]
  },
  {
   "cell_type": "code",
   "execution_count": null,
   "id": "78ba912e",
   "metadata": {
    "lines_to_next_cell": 2
   },
   "outputs": [],
   "source": [
    "    "
   ]
  }
 ],
 "metadata": {
  "jupytext": {
   "cell_metadata_filter": "-all",
   "main_language": "python",
   "notebook_metadata_filter": "-all"
  }
 },
 "nbformat": 4,
 "nbformat_minor": 5
}
