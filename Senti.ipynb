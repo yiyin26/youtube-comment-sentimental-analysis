{
 "cells": [
  {
   "cell_type": "code",
   "execution_count": null,
   "id": "027f3366",
   "metadata": {
    "lines_to_next_cell": 1
   },
   "outputs": [],
   "source": [
    "import csv\n",
    "import re\n",
    "import pandas as pd\n",
    "import nltk\n",
    "nltk.download('vader_lexicon')\n",
    "from nltk.sentiment.vader import SentimentIntensityAnalyzer\n",
    "import plotly.express as px\n",
    "import plotly.graph_objects as go\n",
    "from colorama import Fore, Style\n",
    "from typing import Dict\n",
    "import streamlit as st"
   ]
  },
  {
   "cell_type": "code",
   "execution_count": null,
   "id": "5d7ea644",
   "metadata": {
    "lines_to_next_cell": 1
   },
   "outputs": [],
   "source": [
    "def extract_video_id(youtube_link):\n",
    "    video_id_regex = r\"^(?:https?:\\/\\/)?(?:www\\.)?(?:youtube\\.com\\/watch\\?v=|youtu.be\\/)([a-zA-Z0-9_-]{11})\"\n",
    "    match = re.search(video_id_regex, youtube_link)\n",
    "    if match:\n",
    "        video_id = match.group(1)\n",
    "        return video_id\n",
    "    else:\n",
    "        return None"
   ]
  },
  {
   "cell_type": "code",
   "execution_count": null,
   "id": "e7ccaeac",
   "metadata": {
    "lines_to_next_cell": 1
   },
   "outputs": [],
   "source": [
    "def analyze_sentiment(csv_file):\n",
    "    # Initialize the sentiment analyzer\n",
    "    sid = SentimentIntensityAnalyzer()\n",
    "\n",
    "    # Read in the YouTube comments from the CSV file\n",
    "    comments = []\n",
    "    with open(csv_file, 'r', encoding='utf-8-sig') as csvfile:\n",
    "        reader = csv.DictReader(csvfile)\n",
    "        for row in reader:\n",
    "            comments.append(row['Comment'])\n",
    "\n",
    "    # Count the number of neutral, positive, and negative comments\n",
    "    num_neutral = 0\n",
    "    num_positive = 0\n",
    "    num_negative = 0\n",
    "    for comment in comments:\n",
    "        sentiment_scores = sid.polarity_scores(comment)\n",
    "        if sentiment_scores['compound'] == 0.0:\n",
    "            num_neutral += 1\n",
    "        elif sentiment_scores['compound'] > 0.0:\n",
    "            num_positive += 1\n",
    "        else:\n",
    "            num_negative += 1\n",
    "\n",
    "    # Return the results as a dictionary\n",
    "    results = {'num_neutral': num_neutral, 'num_positive': num_positive, 'num_negative': num_negative}\n",
    "    return results"
   ]
  },
  {
   "cell_type": "code",
   "execution_count": null,
   "id": "75120774",
   "metadata": {
    "lines_to_next_cell": 1
   },
   "outputs": [],
   "source": [
    "def bar_chart(csv_file: str) -> None:\n",
    "    # Call analyze_sentiment function to get the results\n",
    "    results: Dict[str, int] = analyze_sentiment(csv_file)\n",
    "\n",
    "    # Get the counts for each sentiment category\n",
    "    num_neutral = results['num_neutral']\n",
    "    num_positive = results['num_positive']\n",
    "    num_negative = results['num_negative']\n",
    "\n",
    "    # Create a Pandas DataFrame with the results\n",
    "    df = pd.DataFrame({\n",
    "        'Sentiment': ['Positive', 'Negative', 'Neutral'],\n",
    "        'Number of Comments': [num_positive, num_negative, num_neutral]\n",
    "    })\n",
    "\n",
    "    # Create the bar chart using Plotly Express\n",
    "    fig = px.bar(df, x='Sentiment', y='Number of Comments', color='Sentiment', \n",
    "                 color_discrete_sequence=['#87CEFA', '#FFA07A', '#D3D3D3'],\n",
    "                 title='Sentiment Analysis Results')\n",
    "    fig.update_layout(title_font=dict(size=20))\n",
    "\n",
    "\n",
    "    # Show the chart\n",
    "    st.plotly_chart(fig, use_container_width=True)    "
   ]
  },
  {
   "cell_type": "code",
   "execution_count": null,
   "id": "2be7024f",
   "metadata": {},
   "outputs": [],
   "source": [
    "def plot_sentiment(csv_file: str) -> None:\n",
    "    # Call analyze_sentiment function to get the results\n",
    "    results: Dict[str, int] = analyze_sentiment(csv_file)\n",
    "\n",
    "    # Get the counts for each sentiment category\n",
    "    num_neutral = results['num_neutral']\n",
    "    num_positive = results['num_positive']\n",
    "    num_negative = results['num_negative']\n",
    "\n",
    "    # Plot the pie chart\n",
    "    labels = ['Neutral', 'Positive', 'Negative']\n",
    "    values = [num_neutral, num_positive, num_negative]\n",
    "    colors = ['yellow', 'green', 'red']\n",
    "    fig = go.Figure(data=[go.Pie(labels=labels, values=values, textinfo='label+percent',\n",
    "                                 marker=dict(colors=colors))])\n",
    "    fig.update_layout(title={'text': 'Sentiment Analysis Results', 'font': {'size': 20, 'family': 'Arial', 'color': 'grey'},\n",
    "                              'x': 0.5, 'y': 0.9},\n",
    "                      font=dict(size=14))\n",
    "    st.plotly_chart(fig)"
   ]
  },
  {
   "cell_type": "code",
   "execution_count": null,
   "id": "b9a8905f",
   "metadata": {},
   "outputs": [],
   "source": [
    "    "
   ]
  },
  {
   "cell_type": "code",
   "execution_count": null,
   "id": "1e78b31c",
   "metadata": {},
   "outputs": [],
   "source": [
    "def create_scatterplot(csv_file: str, x_column: str, y_column: str) -> None:\n",
    "    # Load data from CSV\n",
    "    data = pd.read_csv(csv_file)\n",
    "\n",
    "    # Create scatter plot using Plotly\n",
    "    fig = px.scatter(data, x=x_column, y=y_column, color='Category')\n",
    "\n",
    "    # Customize layout\n",
    "    fig.update_layout(\n",
    "        title='Scatter Plot',\n",
    "        xaxis_title=x_column,\n",
    "        yaxis_title=y_column,\n",
    "        font=dict(size=18)\n",
    "    )\n",
    "\n",
    "    # Display plot in Streamlit\n",
    "    st.plotly_chart(fig, use_container_width=True)"
   ]
  },
  {
   "cell_type": "code",
   "execution_count": null,
   "id": "31edb356",
   "metadata": {},
   "outputs": [],
   "source": [
    "    "
   ]
  },
  {
   "cell_type": "code",
   "execution_count": null,
   "id": "1ebdb732",
   "metadata": {},
   "outputs": [],
   "source": [
    "def print_sentiment(csv_file: str) -> None:\n",
    "    # Call analyze_sentiment function to get the results\n",
    "    results: Dict[str, int] = analyze_sentiment(csv_file)\n",
    "\n",
    "    # Get the counts for each sentiment category\n",
    "    num_neutral = results['num_neutral']\n",
    "    num_positive = results['num_positive']\n",
    "    num_negative = results['num_negative']\n",
    "\n",
    "  \n",
    "    # Determine the overall sentiment\n",
    "    if num_positive > num_negative:\n",
    "        overall_sentiment = 'POSITIVE'\n",
    "        color = Fore.GREEN\n",
    "    elif num_negative > num_positive:\n",
    "        overall_sentiment = 'NEGATIVE'\n",
    "        color = Fore.RED\n",
    "    else:\n",
    "        overall_sentiment = 'NEUTRAL'\n",
    "        color = Fore.YELLOW\n",
    "\n",
    "    # Print the overall sentiment in color\n",
    "    print('\\n'+ Style.BRIGHT+ color + overall_sentiment.upper().center(50, ' ') + Style.RESET_ALL)"
   ]
  },
  {
   "cell_type": "code",
   "execution_count": null,
   "id": "0bc798bf",
   "metadata": {
    "lines_to_next_cell": 2
   },
   "outputs": [],
   "source": []
  }
 ],
 "metadata": {
  "jupytext": {
   "cell_metadata_filter": "-all",
   "main_language": "python",
   "notebook_metadata_filter": "-all"
  }
 },
 "nbformat": 4,
 "nbformat_minor": 5
}
